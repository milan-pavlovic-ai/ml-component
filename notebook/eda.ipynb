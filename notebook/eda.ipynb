{
 "cells": [
  {
   "attachments": {},
   "cell_type": "markdown",
   "metadata": {},
   "source": [
    "# Exploratory data analysis"
   ]
  },
  {
   "attachments": {},
   "cell_type": "markdown",
   "metadata": {},
   "source": [
    "### Imports"
   ]
  },
  {
   "cell_type": "code",
   "execution_count": 1,
   "metadata": {},
   "outputs": [],
   "source": [
    "import pandas as pd\n",
    "import seaborn as sns\n",
    "import matplotlib.pyplot as plt"
   ]
  },
  {
   "attachments": {},
   "cell_type": "markdown",
   "metadata": {},
   "source": [
    "### Load data"
   ]
  },
  {
   "cell_type": "code",
   "execution_count": 2,
   "metadata": {},
   "outputs": [],
   "source": [
    "data_path = '../data/raw/car-data.csv'\n",
    "df_raw = pd.read_csv(data_path, header=0)"
   ]
  },
  {
   "attachments": {},
   "cell_type": "markdown",
   "metadata": {},
   "source": [
    "### Info data"
   ]
  },
  {
   "cell_type": "code",
   "execution_count": 3,
   "metadata": {},
   "outputs": [
    {
     "data": {
      "text/html": [
       "<div>\n",
       "<style scoped>\n",
       "    .dataframe tbody tr th:only-of-type {\n",
       "        vertical-align: middle;\n",
       "    }\n",
       "\n",
       "    .dataframe tbody tr th {\n",
       "        vertical-align: top;\n",
       "    }\n",
       "\n",
       "    .dataframe thead th {\n",
       "        text-align: right;\n",
       "    }\n",
       "</style>\n",
       "<table border=\"1\" class=\"dataframe\">\n",
       "  <thead>\n",
       "    <tr style=\"text-align: right;\">\n",
       "      <th></th>\n",
       "      <th>ID</th>\n",
       "      <th>Price</th>\n",
       "      <th>Levy</th>\n",
       "      <th>Manufacturer</th>\n",
       "      <th>Model</th>\n",
       "      <th>Prod. year</th>\n",
       "      <th>Category</th>\n",
       "      <th>Leather interior</th>\n",
       "      <th>Fuel type</th>\n",
       "      <th>Engine volume</th>\n",
       "      <th>Mileage</th>\n",
       "      <th>Cylinders</th>\n",
       "      <th>Gear box type</th>\n",
       "      <th>Drive wheels</th>\n",
       "      <th>Doors</th>\n",
       "      <th>Wheel</th>\n",
       "      <th>Color</th>\n",
       "      <th>Airbags</th>\n",
       "    </tr>\n",
       "  </thead>\n",
       "  <tbody>\n",
       "    <tr>\n",
       "      <th>0</th>\n",
       "      <td>45654403</td>\n",
       "      <td>13328</td>\n",
       "      <td>1399</td>\n",
       "      <td>LEXUS</td>\n",
       "      <td>RX 450</td>\n",
       "      <td>2010</td>\n",
       "      <td>Jeep</td>\n",
       "      <td>Yes</td>\n",
       "      <td>Hybrid</td>\n",
       "      <td>3.5</td>\n",
       "      <td>186005 km</td>\n",
       "      <td>6.0</td>\n",
       "      <td>Automatic</td>\n",
       "      <td>4x4</td>\n",
       "      <td>04-May</td>\n",
       "      <td>Left wheel</td>\n",
       "      <td>Silver</td>\n",
       "      <td>12</td>\n",
       "    </tr>\n",
       "    <tr>\n",
       "      <th>1</th>\n",
       "      <td>44731507</td>\n",
       "      <td>16621</td>\n",
       "      <td>1018</td>\n",
       "      <td>CHEVROLET</td>\n",
       "      <td>Equinox</td>\n",
       "      <td>2011</td>\n",
       "      <td>Jeep</td>\n",
       "      <td>No</td>\n",
       "      <td>Petrol</td>\n",
       "      <td>3</td>\n",
       "      <td>192000 km</td>\n",
       "      <td>6.0</td>\n",
       "      <td>Tiptronic</td>\n",
       "      <td>4x4</td>\n",
       "      <td>04-May</td>\n",
       "      <td>Left wheel</td>\n",
       "      <td>Black</td>\n",
       "      <td>8</td>\n",
       "    </tr>\n",
       "    <tr>\n",
       "      <th>2</th>\n",
       "      <td>45774419</td>\n",
       "      <td>8467</td>\n",
       "      <td>-</td>\n",
       "      <td>HONDA</td>\n",
       "      <td>FIT</td>\n",
       "      <td>2006</td>\n",
       "      <td>Hatchback</td>\n",
       "      <td>No</td>\n",
       "      <td>Petrol</td>\n",
       "      <td>1.3</td>\n",
       "      <td>200000 km</td>\n",
       "      <td>4.0</td>\n",
       "      <td>Variator</td>\n",
       "      <td>Front</td>\n",
       "      <td>04-May</td>\n",
       "      <td>Right-hand drive</td>\n",
       "      <td>Black</td>\n",
       "      <td>2</td>\n",
       "    </tr>\n",
       "    <tr>\n",
       "      <th>3</th>\n",
       "      <td>45769185</td>\n",
       "      <td>3607</td>\n",
       "      <td>862</td>\n",
       "      <td>FORD</td>\n",
       "      <td>Escape</td>\n",
       "      <td>2011</td>\n",
       "      <td>Jeep</td>\n",
       "      <td>Yes</td>\n",
       "      <td>Hybrid</td>\n",
       "      <td>2.5</td>\n",
       "      <td>168966 km</td>\n",
       "      <td>4.0</td>\n",
       "      <td>Automatic</td>\n",
       "      <td>4x4</td>\n",
       "      <td>04-May</td>\n",
       "      <td>Left wheel</td>\n",
       "      <td>White</td>\n",
       "      <td>0</td>\n",
       "    </tr>\n",
       "    <tr>\n",
       "      <th>4</th>\n",
       "      <td>45809263</td>\n",
       "      <td>11726</td>\n",
       "      <td>446</td>\n",
       "      <td>HONDA</td>\n",
       "      <td>FIT</td>\n",
       "      <td>2014</td>\n",
       "      <td>Hatchback</td>\n",
       "      <td>Yes</td>\n",
       "      <td>Petrol</td>\n",
       "      <td>1.3</td>\n",
       "      <td>91901 km</td>\n",
       "      <td>4.0</td>\n",
       "      <td>Automatic</td>\n",
       "      <td>Front</td>\n",
       "      <td>04-May</td>\n",
       "      <td>Left wheel</td>\n",
       "      <td>Silver</td>\n",
       "      <td>4</td>\n",
       "    </tr>\n",
       "  </tbody>\n",
       "</table>\n",
       "</div>"
      ],
      "text/plain": [
       "         ID  Price  Levy Manufacturer    Model  Prod. year   Category  \\\n",
       "0  45654403  13328  1399        LEXUS   RX 450        2010       Jeep   \n",
       "1  44731507  16621  1018    CHEVROLET  Equinox        2011       Jeep   \n",
       "2  45774419   8467     -        HONDA      FIT        2006  Hatchback   \n",
       "3  45769185   3607   862         FORD   Escape        2011       Jeep   \n",
       "4  45809263  11726   446        HONDA      FIT        2014  Hatchback   \n",
       "\n",
       "  Leather interior Fuel type Engine volume    Mileage  Cylinders  \\\n",
       "0              Yes    Hybrid           3.5  186005 km        6.0   \n",
       "1               No    Petrol             3  192000 km        6.0   \n",
       "2               No    Petrol           1.3  200000 km        4.0   \n",
       "3              Yes    Hybrid           2.5  168966 km        4.0   \n",
       "4              Yes    Petrol           1.3   91901 km        4.0   \n",
       "\n",
       "  Gear box type Drive wheels   Doors             Wheel   Color  Airbags  \n",
       "0     Automatic          4x4  04-May        Left wheel  Silver       12  \n",
       "1     Tiptronic          4x4  04-May        Left wheel   Black        8  \n",
       "2      Variator        Front  04-May  Right-hand drive   Black        2  \n",
       "3     Automatic          4x4  04-May        Left wheel   White        0  \n",
       "4     Automatic        Front  04-May        Left wheel  Silver        4  "
      ]
     },
     "execution_count": 3,
     "metadata": {},
     "output_type": "execute_result"
    }
   ],
   "source": [
    "df_raw.head(5)"
   ]
  },
  {
   "cell_type": "code",
   "execution_count": 4,
   "metadata": {},
   "outputs": [
    {
     "name": "stdout",
     "output_type": "stream",
     "text": [
      "<class 'pandas.core.frame.DataFrame'>\n",
      "RangeIndex: 19237 entries, 0 to 19236\n",
      "Data columns (total 18 columns):\n",
      " #   Column            Non-Null Count  Dtype  \n",
      "---  ------            --------------  -----  \n",
      " 0   ID                19237 non-null  int64  \n",
      " 1   Price             19237 non-null  int64  \n",
      " 2   Levy              19237 non-null  object \n",
      " 3   Manufacturer      19237 non-null  object \n",
      " 4   Model             19237 non-null  object \n",
      " 5   Prod. year        19237 non-null  int64  \n",
      " 6   Category          19237 non-null  object \n",
      " 7   Leather interior  19237 non-null  object \n",
      " 8   Fuel type         19237 non-null  object \n",
      " 9   Engine volume     19237 non-null  object \n",
      " 10  Mileage           19237 non-null  object \n",
      " 11  Cylinders         19237 non-null  float64\n",
      " 12  Gear box type     19237 non-null  object \n",
      " 13  Drive wheels      19237 non-null  object \n",
      " 14  Doors             19237 non-null  object \n",
      " 15  Wheel             19237 non-null  object \n",
      " 16  Color             19237 non-null  object \n",
      " 17  Airbags           19237 non-null  int64  \n",
      "dtypes: float64(1), int64(4), object(13)\n",
      "memory usage: 2.6+ MB\n"
     ]
    }
   ],
   "source": [
    "df_raw.info()"
   ]
  },
  {
   "cell_type": "code",
   "execution_count": 5,
   "metadata": {},
   "outputs": [
    {
     "data": {
      "text/html": [
       "<div>\n",
       "<style scoped>\n",
       "    .dataframe tbody tr th:only-of-type {\n",
       "        vertical-align: middle;\n",
       "    }\n",
       "\n",
       "    .dataframe tbody tr th {\n",
       "        vertical-align: top;\n",
       "    }\n",
       "\n",
       "    .dataframe thead th {\n",
       "        text-align: right;\n",
       "    }\n",
       "</style>\n",
       "<table border=\"1\" class=\"dataframe\">\n",
       "  <thead>\n",
       "    <tr style=\"text-align: right;\">\n",
       "      <th></th>\n",
       "      <th>ID</th>\n",
       "      <th>Price</th>\n",
       "      <th>Prod. year</th>\n",
       "      <th>Cylinders</th>\n",
       "      <th>Airbags</th>\n",
       "    </tr>\n",
       "  </thead>\n",
       "  <tbody>\n",
       "    <tr>\n",
       "      <th>count</th>\n",
       "      <td>1.923700e+04</td>\n",
       "      <td>1.923700e+04</td>\n",
       "      <td>19237.000000</td>\n",
       "      <td>19237.000000</td>\n",
       "      <td>19237.000000</td>\n",
       "    </tr>\n",
       "    <tr>\n",
       "      <th>mean</th>\n",
       "      <td>4.557654e+07</td>\n",
       "      <td>1.855593e+04</td>\n",
       "      <td>2010.912824</td>\n",
       "      <td>4.582991</td>\n",
       "      <td>6.582627</td>\n",
       "    </tr>\n",
       "    <tr>\n",
       "      <th>std</th>\n",
       "      <td>9.365914e+05</td>\n",
       "      <td>1.905813e+05</td>\n",
       "      <td>5.668673</td>\n",
       "      <td>1.199933</td>\n",
       "      <td>4.320168</td>\n",
       "    </tr>\n",
       "    <tr>\n",
       "      <th>min</th>\n",
       "      <td>2.074688e+07</td>\n",
       "      <td>1.000000e+00</td>\n",
       "      <td>1939.000000</td>\n",
       "      <td>1.000000</td>\n",
       "      <td>0.000000</td>\n",
       "    </tr>\n",
       "    <tr>\n",
       "      <th>25%</th>\n",
       "      <td>4.569837e+07</td>\n",
       "      <td>5.331000e+03</td>\n",
       "      <td>2009.000000</td>\n",
       "      <td>4.000000</td>\n",
       "      <td>4.000000</td>\n",
       "    </tr>\n",
       "    <tr>\n",
       "      <th>50%</th>\n",
       "      <td>4.577231e+07</td>\n",
       "      <td>1.317200e+04</td>\n",
       "      <td>2012.000000</td>\n",
       "      <td>4.000000</td>\n",
       "      <td>6.000000</td>\n",
       "    </tr>\n",
       "    <tr>\n",
       "      <th>75%</th>\n",
       "      <td>4.580204e+07</td>\n",
       "      <td>2.207500e+04</td>\n",
       "      <td>2015.000000</td>\n",
       "      <td>4.000000</td>\n",
       "      <td>12.000000</td>\n",
       "    </tr>\n",
       "    <tr>\n",
       "      <th>max</th>\n",
       "      <td>4.581665e+07</td>\n",
       "      <td>2.630750e+07</td>\n",
       "      <td>2020.000000</td>\n",
       "      <td>16.000000</td>\n",
       "      <td>16.000000</td>\n",
       "    </tr>\n",
       "  </tbody>\n",
       "</table>\n",
       "</div>"
      ],
      "text/plain": [
       "                 ID         Price    Prod. year     Cylinders       Airbags\n",
       "count  1.923700e+04  1.923700e+04  19237.000000  19237.000000  19237.000000\n",
       "mean   4.557654e+07  1.855593e+04   2010.912824      4.582991      6.582627\n",
       "std    9.365914e+05  1.905813e+05      5.668673      1.199933      4.320168\n",
       "min    2.074688e+07  1.000000e+00   1939.000000      1.000000      0.000000\n",
       "25%    4.569837e+07  5.331000e+03   2009.000000      4.000000      4.000000\n",
       "50%    4.577231e+07  1.317200e+04   2012.000000      4.000000      6.000000\n",
       "75%    4.580204e+07  2.207500e+04   2015.000000      4.000000     12.000000\n",
       "max    4.581665e+07  2.630750e+07   2020.000000     16.000000     16.000000"
      ]
     },
     "execution_count": 5,
     "metadata": {},
     "output_type": "execute_result"
    }
   ],
   "source": [
    "df_raw.describe()"
   ]
  },
  {
   "attachments": {},
   "cell_type": "markdown",
   "metadata": {},
   "source": [
    "### General Analysis"
   ]
  },
  {
   "cell_type": "code",
   "execution_count": 6,
   "metadata": {},
   "outputs": [],
   "source": [
    "def calc_stats(df, feature):\n",
    "    \"\"\"Calculate statistics for given feature in the dataset\"\"\"\n",
    "    values = df[feature]\n",
    "    print(f'Mean = {values.mean():.2f}')\n",
    "    print(f'Std = {values.std():.2f}')\n",
    "    print(f'Min = {values.min():.2f}')\n",
    "    print(f'25th = {values.quantile(0.25):.2f}')\n",
    "    print(f'50th = {values.median():.2f}')\n",
    "    print(f'75th = {values.quantile(0.75):.2f}')\n",
    "    print(f'Max = {values.max():.2f}')\n",
    "    print(f'IQR = {(values.quantile(0.75) - values.quantile(0.25)):.2f}')\n",
    "    return"
   ]
  },
  {
   "attachments": {},
   "cell_type": "markdown",
   "metadata": {},
   "source": [
    "##### Missing Features"
   ]
  },
  {
   "cell_type": "code",
   "execution_count": 7,
   "metadata": {},
   "outputs": [
    {
     "data": {
      "text/plain": [
       "ID                   0.00\n",
       "Price                0.00\n",
       "Levy                30.25\n",
       "Manufacturer         0.00\n",
       "Model                0.00\n",
       "Prod. year           0.00\n",
       "Category             0.00\n",
       "Leather interior     0.00\n",
       "Fuel type            0.00\n",
       "Engine volume        0.00\n",
       "Mileage              0.00\n",
       "Cylinders            0.00\n",
       "Gear box type        0.00\n",
       "Drive wheels         0.00\n",
       "Doors                0.00\n",
       "Wheel                0.00\n",
       "Color                0.00\n",
       "Airbags              0.00\n",
       "dtype: float64"
      ]
     },
     "execution_count": 7,
     "metadata": {},
     "output_type": "execute_result"
    }
   ],
   "source": [
    "mask_null = (df_raw == '') | (df_raw == '-') | (df_raw.isnull())\n",
    "mask_null_percentage = (mask_null.mean() * 100).round(2)\n",
    "mask_null_percentage"
   ]
  },
  {
   "attachments": {},
   "cell_type": "markdown",
   "metadata": {},
   "source": [
    "##### Feature selection"
   ]
  },
  {
   "cell_type": "code",
   "execution_count": 8,
   "metadata": {},
   "outputs": [],
   "source": [
    "relevant_features = [\n",
    "    'Manufacturer',\n",
    "    'Model',\n",
    "    'Prod. year',\n",
    "    'Mileage',\n",
    "    'Category',\n",
    "    'Leather interior',\n",
    "    'Fuel type',\n",
    "    'Engine volume',\n",
    "    'Cylinders',\n",
    "    'Gear box type',\n",
    "    'Drive wheels',\n",
    "    'Doors',\n",
    "    'Wheel',\n",
    "    'Color',\n",
    "    'Airbags',\n",
    "    'Price'\n",
    "]\n",
    "\n",
    "df = df_raw[relevant_features]"
   ]
  },
  {
   "attachments": {},
   "cell_type": "markdown",
   "metadata": {},
   "source": [
    "##### Outliers"
   ]
  },
  {
   "cell_type": "code",
   "execution_count": 9,
   "metadata": {},
   "outputs": [],
   "source": [
    "def find_outliers_numeric(df, feature, iqr_threshhold, min_value, max_value):\n",
    "    \"\"\"Find outliers from the dataset based on given feature and paremeters\"\"\"\n",
    "    # Identify bounds\n",
    "    values = df[feature]\n",
    "    q25 = int(round(values.quantile(0.25)))\n",
    "    q75 = int(round(values.quantile(0.75)))\n",
    "    iqr_value = q75 - q25\n",
    "    \n",
    "    lower_bound = q25 - iqr_threshhold * iqr_value\n",
    "    if lower_bound < min_value:\n",
    "        lower_bound = min_value\n",
    "\n",
    "    upper_bound = q75 + iqr_threshhold * iqr_value\n",
    "    if upper_bound > max_value:\n",
    "        upper_bound = max_value\n",
    "        \n",
    "    print(f'{lower_bound} < {feature} < {upper_bound}')\n",
    "    \n",
    "    # Identify outliers\n",
    "    mask_outliers = (df[feature] < lower_bound) | (df[feature] > upper_bound)\n",
    "    outliers = df[mask_outliers]\n",
    "    \n",
    "    total_data_points = len(df)\n",
    "    num_outliers = len(outliers)\n",
    "    percentage_outliers = (num_outliers / total_data_points) * 100\n",
    "    print(f'Outlier for {feature}: {num_outliers} or {percentage_outliers:.2f}%')\n",
    "    print(f'Before {total_data_points}, After {total_data_points - num_outliers}')\n",
    "    \n",
    "    return outliers"
   ]
  },
  {
   "cell_type": "code",
   "execution_count": 10,
   "metadata": {},
   "outputs": [],
   "source": [
    "def find_outliers_categorical(df, feature, min_freq):\n",
    "    \"\"\"Find outliers for categorical feature under given minimum frequency\"\"\"\n",
    "    counts = df[feature].value_counts()\n",
    "    \n",
    "    mask = df[feature].isin(counts[counts <= min_freq].index)\n",
    "    outliers = df[mask]\n",
    "\n",
    "    total_data_points = len(df)\n",
    "    num_outliers = len(outliers)\n",
    "    percentage_outliers = (num_outliers / total_data_points) * 100\n",
    "    print(f'Outlier for {feature}: {num_outliers} or {percentage_outliers:.2f}%')\n",
    "    \n",
    "    return outliers"
   ]
  },
  {
   "attachments": {},
   "cell_type": "markdown",
   "metadata": {},
   "source": [
    "### Feature Analysis"
   ]
  },
  {
   "attachments": {},
   "cell_type": "markdown",
   "metadata": {},
   "source": [
    "##### Target Feature"
   ]
  },
  {
   "cell_type": "code",
   "execution_count": 11,
   "metadata": {},
   "outputs": [
    {
     "name": "stdout",
     "output_type": "stream",
     "text": [
      "1000 < Price < 147655.0\n",
      "Outlier for Price: 2601 or 13.52%\n",
      "Before 19237, After 16636\n"
     ]
    }
   ],
   "source": [
    "feature = 'Price'\n",
    "outliers_price = find_outliers_numeric(df, feature=feature, iqr_threshhold=7.5, min_value=1000, max_value=150_000)"
   ]
  },
  {
   "cell_type": "code",
   "execution_count": 12,
   "metadata": {},
   "outputs": [],
   "source": [
    "df = df.drop(outliers_price.index).reset_index(drop=True)"
   ]
  },
  {
   "cell_type": "code",
   "execution_count": 13,
   "metadata": {},
   "outputs": [],
   "source": [
    "target_data = df[feature]\n",
    "\n",
    "# Stats\n",
    "mean_price = int(round(target_data.mean()))\n",
    "std_price = int(round(target_data.std()))\n",
    "min_price = int(round(target_data.min()))\n",
    "q25 = int(round(target_data.quantile(0.25)))\n",
    "median_price = int(round(target_data.median()))\n",
    "q75 = int(round(target_data.quantile(0.75)))\n",
    "max_price = int(round(target_data.max()))\n",
    "iqr_value = q75 - q25"
   ]
  },
  {
   "cell_type": "code",
   "execution_count": 14,
   "metadata": {},
   "outputs": [
    {
     "data": {
      "image/png": "[encoded data removed]",
      "text/plain": [
       "<Figure size 1200x1000 with 1 Axes>"
      ]
     },
     "metadata": {},
     "output_type": "display_data"
    }
   ],
   "source": [
    "plt.figure(figsize=(12, 10))\n",
    "sns.histplot(target_data, kde=True, color='blue', bins=300)\n",
    "\n",
    "plt.axvline(mean_price, color='red', linestyle='--', label=f'Mean: {mean_price}', alpha=0.7)\n",
    "plt.axvline(mean_price, color='gray', linestyle='--', label=f'Std: {std_price}', alpha=0)\n",
    "plt.axvline(mean_price, color='gray', linestyle='--', label=f'Min: {min_price}', alpha=0)\n",
    "plt.axvline(q25, color='orange', linestyle='--', label=f'25th: {q25}', alpha=0.7)\n",
    "plt.axvline(median_price, color='green', linestyle='--', label=f'Median: {median_price}', alpha=0.7)\n",
    "plt.axvline(q75, color='orange', linestyle='--', label=f'75th: {q75}', alpha=0.7)\n",
    "plt.axvline(mean_price, color='gray', linestyle='--', label=f'Max: {max_price}', alpha=0)\n",
    "\n",
    "plt.title(f'Distribution of {feature}')\n",
    "plt.xlabel(feature)\n",
    "plt.ylabel('Frequency')\n",
    "\n",
    "plt.tight_layout()\n",
    "plt.legend()\n",
    "plt.show()"
   ]
  },
  {
   "attachments": {},
   "cell_type": "markdown",
   "metadata": {},
   "source": [
    "##### Mileage"
   ]
  },
  {
   "cell_type": "code",
   "execution_count": 15,
   "metadata": {},
   "outputs": [],
   "source": [
    "feature = 'Mileage'\n",
    "df[feature] = df[feature].str.replace(' km', '').astype(int)"
   ]
  },
  {
   "cell_type": "code",
   "execution_count": 16,
   "metadata": {},
   "outputs": [
    {
     "name": "stdout",
     "output_type": "stream",
     "text": [
      "Mean = 1548184.36\n",
      "Std = 48560200.48\n",
      "Min = 0.00\n",
      "25th = 69000.00\n",
      "50th = 123345.50\n",
      "75th = 181906.50\n",
      "Max = 2147483647.00\n",
      "IQR = 112906.50\n"
     ]
    }
   ],
   "source": [
    "calc_stats(df, feature=feature)"
   ]
  },
  {
   "cell_type": "code",
   "execution_count": 17,
   "metadata": {},
   "outputs": [
    {
     "name": "stdout",
     "output_type": "stream",
     "text": [
      "0 < Mileage < 520624\n",
      "Outlier for Mileage: 218 or 1.31%\n",
      "Before 16636, After 16418\n"
     ]
    }
   ],
   "source": [
    "outliers_mileage = find_outliers_numeric(df, feature=feature, iqr_threshhold=3, min_value=0, max_value=600_000)"
   ]
  },
  {
   "cell_type": "code",
   "execution_count": 18,
   "metadata": {},
   "outputs": [],
   "source": [
    "df = df.drop(outliers_mileage.index).reset_index(drop=True)"
   ]
  },
  {
   "cell_type": "code",
   "execution_count": 19,
   "metadata": {},
   "outputs": [
    {
     "data": {
      "image/png": "[encoded data removed]",
      "text/plain": [
       "<Figure size 1000x600 with 1 Axes>"
      ]
     },
     "metadata": {},
     "output_type": "display_data"
    }
   ],
   "source": [
    "plt.figure(figsize=(10, 6))\n",
    "sns.histplot(df[feature], kde=True, color='blue')\n",
    "plt.title(f'Distribution of {feature}')\n",
    "plt.xlabel(feature)\n",
    "plt.ylabel('Frequency')\n",
    "plt.show()"
   ]
  },
  {
   "attachments": {},
   "cell_type": "markdown",
   "metadata": {},
   "source": [
    "##### Manufacturer"
   ]
  },
  {
   "cell_type": "code",
   "execution_count": 20,
   "metadata": {},
   "outputs": [
    {
     "data": {
      "text/plain": [
       "Manufacturer\n",
       "HYUNDAI          3445\n",
       "TOYOTA           2955\n",
       "MERCEDES-BENZ    1684\n",
       "CHEVROLET         958\n",
       "FORD              936\n",
       "                 ... \n",
       "PONTIAC             1\n",
       "SATURN              1\n",
       "ASTON MARTIN        1\n",
       "MOSKVICH            1\n",
       "GREATWALL           1\n",
       "Name: count, Length: 62, dtype: int64"
      ]
     },
     "execution_count": 20,
     "metadata": {},
     "output_type": "execute_result"
    }
   ],
   "source": [
    "feature = 'Manufacturer'\n",
    "counts_make = df[feature].value_counts()\n",
    "counts_make"
   ]
  },
  {
   "cell_type": "code",
   "execution_count": 21,
   "metadata": {},
   "outputs": [
    {
     "name": "stdout",
     "output_type": "stream",
     "text": [
      "Outlier for Manufacturer: 39 or 0.24%\n"
     ]
    }
   ],
   "source": [
    "outliers_make = find_outliers_categorical(df, feature, min_freq=5)"
   ]
  },
  {
   "cell_type": "code",
   "execution_count": 22,
   "metadata": {},
   "outputs": [],
   "source": [
    "df = df.drop(outliers_make.index).reset_index(drop=True)"
   ]
  },
  {
   "attachments": {},
   "cell_type": "markdown",
   "metadata": {},
   "source": [
    "##### Model"
   ]
  },
  {
   "cell_type": "code",
   "execution_count": 23,
   "metadata": {},
   "outputs": [
    {
     "data": {
      "text/plain": [
       "Model\n",
       "Sonata                     860\n",
       "Prius                      852\n",
       "Elantra                    849\n",
       "Camry                      710\n",
       "Santa FE                   522\n",
       "                          ... \n",
       "Transit Connect ბენზინი      1\n",
       "CLK 280                      1\n",
       "FIT RS                       1\n",
       "500 s                        1\n",
       "Optima ex                    1\n",
       "Name: count, Length: 1508, dtype: int64"
      ]
     },
     "execution_count": 23,
     "metadata": {},
     "output_type": "execute_result"
    }
   ],
   "source": [
    "feature = 'Model'\n",
    "counts_model = df[feature].value_counts()\n",
    "counts_model"
   ]
  },
  {
   "cell_type": "code",
   "execution_count": 24,
   "metadata": {},
   "outputs": [
    {
     "name": "stdout",
     "output_type": "stream",
     "text": [
      "Outlier for Model: 1483 or 9.05%\n"
     ]
    }
   ],
   "source": [
    "outliers_model = find_outliers_categorical(df, feature, min_freq=3)"
   ]
  },
  {
   "cell_type": "code",
   "execution_count": 25,
   "metadata": {},
   "outputs": [],
   "source": [
    "df = df.drop(outliers_model.index).reset_index(drop=True)"
   ]
  },
  {
   "attachments": {},
   "cell_type": "markdown",
   "metadata": {},
   "source": [
    "##### Prod year"
   ]
  },
  {
   "cell_type": "code",
   "execution_count": 26,
   "metadata": {},
   "outputs": [
    {
     "name": "stdout",
     "output_type": "stream",
     "text": [
      "Mean = 2011.04\n",
      "Std = 5.42\n",
      "Min = 1957.00\n",
      "25th = 2009.00\n",
      "50th = 2012.00\n",
      "75th = 2015.00\n",
      "Max = 2020.00\n",
      "IQR = 6.00\n"
     ]
    }
   ],
   "source": [
    "feature = 'Prod. year'\n",
    "calc_stats(df, feature=feature)"
   ]
  },
  {
   "cell_type": "code",
   "execution_count": 27,
   "metadata": {},
   "outputs": [
    {
     "name": "stdout",
     "output_type": "stream",
     "text": [
      "1967 < Prod. year < 2025\n",
      "Outlier for Prod. year: 4 or 0.03%\n",
      "Before 14896, After 14892\n"
     ]
    }
   ],
   "source": [
    "outliers_prodyear = find_outliers_numeric(df, feature=feature, iqr_threshhold=7, min_value=1950, max_value=2025)"
   ]
  },
  {
   "cell_type": "code",
   "execution_count": 28,
   "metadata": {},
   "outputs": [],
   "source": [
    "df = df.drop(outliers_prodyear.index).reset_index(drop=True)"
   ]
  },
  {
   "cell_type": "code",
   "execution_count": 29,
   "metadata": {},
   "outputs": [
    {
     "data": {
      "image/png": "[encoded data removed]",
      "text/plain": [
       "<Figure size 1000x600 with 1 Axes>"
      ]
     },
     "metadata": {},
     "output_type": "display_data"
    }
   ],
   "source": [
    "plt.figure(figsize=(10, 6))\n",
    "sns.histplot(df[feature], kde=True, color='blue')\n",
    "plt.title(f'Distribution of {feature}')\n",
    "plt.xlabel(feature)\n",
    "plt.ylabel('Frequency')\n",
    "plt.show()"
   ]
  },
  {
   "attachments": {},
   "cell_type": "markdown",
   "metadata": {},
   "source": [
    "##### Body Category"
   ]
  },
  {
   "cell_type": "code",
   "execution_count": 30,
   "metadata": {},
   "outputs": [
    {
     "data": {
      "text/plain": [
       "Category\n",
       "Sedan          6780\n",
       "Jeep           4203\n",
       "Hatchback      2172\n",
       "Minivan         548\n",
       "Coupe           381\n",
       "Universal       321\n",
       "Microbus        246\n",
       "Goods wagon     189\n",
       "Pickup           32\n",
       "Cabriolet        16\n",
       "Limousine         4\n",
       "Name: count, dtype: int64"
      ]
     },
     "execution_count": 30,
     "metadata": {},
     "output_type": "execute_result"
    }
   ],
   "source": [
    "feature = 'Category'\n",
    "counts_body = df[feature].value_counts()\n",
    "counts_body"
   ]
  },
  {
   "cell_type": "code",
   "execution_count": 31,
   "metadata": {},
   "outputs": [
    {
     "name": "stdout",
     "output_type": "stream",
     "text": [
      "Outlier for Category: 4 or 0.03%\n"
     ]
    }
   ],
   "source": [
    "outliers_body = find_outliers_categorical(df, feature, min_freq=5)"
   ]
  },
  {
   "cell_type": "code",
   "execution_count": 32,
   "metadata": {},
   "outputs": [],
   "source": [
    "df = df.drop(outliers_body.index).reset_index(drop=True)"
   ]
  },
  {
   "attachments": {},
   "cell_type": "markdown",
   "metadata": {},
   "source": [
    "##### Fuel type"
   ]
  },
  {
   "cell_type": "code",
   "execution_count": 33,
   "metadata": {},
   "outputs": [
    {
     "data": {
      "text/plain": [
       "Fuel type\n",
       "Petrol            7675\n",
       "Diesel            3510\n",
       "Hybrid            2499\n",
       "LPG                727\n",
       "CNG                403\n",
       "Plug-in Hybrid      74\n",
       "Name: count, dtype: int64"
      ]
     },
     "execution_count": 33,
     "metadata": {},
     "output_type": "execute_result"
    }
   ],
   "source": [
    "feature = 'Fuel type'\n",
    "counts_fuel = df[feature].value_counts()\n",
    "counts_fuel"
   ]
  },
  {
   "attachments": {},
   "cell_type": "markdown",
   "metadata": {},
   "source": [
    "##### Engine volume"
   ]
  },
  {
   "cell_type": "code",
   "execution_count": 34,
   "metadata": {},
   "outputs": [
    {
     "data": {
      "text/plain": [
       "Engine volume\n",
       "2            3290\n",
       "2.5          1783\n",
       "1.8          1352\n",
       "1.6          1329\n",
       "1.5          1085\n",
       "             ... \n",
       "6               1\n",
       "0.7             1\n",
       "6.7             1\n",
       "3.7 Turbo       1\n",
       "1.1 Turbo       1\n",
       "Name: count, Length: 94, dtype: int64"
      ]
     },
     "execution_count": 34,
     "metadata": {},
     "output_type": "execute_result"
    }
   ],
   "source": [
    "feature = 'Engine volume'\n",
    "df[feature].value_counts()"
   ]
  },
  {
   "cell_type": "code",
   "execution_count": 35,
   "metadata": {},
   "outputs": [
    {
     "data": {
      "text/plain": [
       "isTurbo\n",
       "No     13433\n",
       "Yes     1455\n",
       "Name: count, dtype: int64"
      ]
     },
     "execution_count": 35,
     "metadata": {},
     "output_type": "execute_result"
    }
   ],
   "source": [
    "df['isTurbo'] = df[feature].apply(lambda x: 'Yes' if 'Turbo' in x else 'No')\n",
    "df['isTurbo'].value_counts()"
   ]
  },
  {
   "cell_type": "code",
   "execution_count": 36,
   "metadata": {},
   "outputs": [
    {
     "name": "stdout",
     "output_type": "stream",
     "text": [
      "Mean = 2.24\n",
      "Std = 0.82\n",
      "Min = 0.00\n",
      "25th = 1.70\n",
      "50th = 2.00\n",
      "75th = 2.50\n",
      "Max = 20.00\n",
      "IQR = 0.80\n"
     ]
    }
   ],
   "source": [
    "df[feature] = df[feature].str.replace(' Turbo', '').astype(float)\n",
    "calc_stats(df, feature=feature)"
   ]
  },
  {
   "cell_type": "code",
   "execution_count": 37,
   "metadata": {},
   "outputs": [
    {
     "data": {
      "image/png": "[encoded data removed]",
      "text/plain": [
       "<Figure size 1000x600 with 1 Axes>"
      ]
     },
     "metadata": {},
     "output_type": "display_data"
    }
   ],
   "source": [
    "plt.figure(figsize=(10, 6))\n",
    "sns.histplot(df[feature], kde=True, color='blue')\n",
    "plt.title(f'Distribution of {feature}')\n",
    "plt.xlabel(feature)\n",
    "plt.ylabel('Frequency')\n",
    "plt.show()"
   ]
  },
  {
   "attachments": {},
   "cell_type": "markdown",
   "metadata": {},
   "source": [
    "##### Cylinders"
   ]
  },
  {
   "cell_type": "code",
   "execution_count": 38,
   "metadata": {},
   "outputs": [
    {
     "name": "stdout",
     "output_type": "stream",
     "text": [
      "Mean = 4.49\n",
      "Std = 1.11\n",
      "Min = 1.00\n",
      "25th = 4.00\n",
      "50th = 4.00\n",
      "75th = 4.00\n",
      "Max = 16.00\n",
      "IQR = 0.00\n"
     ]
    }
   ],
   "source": [
    "feature = 'Cylinders'\n",
    "calc_stats(df, feature=feature)"
   ]
  },
  {
   "cell_type": "code",
   "execution_count": 39,
   "metadata": {},
   "outputs": [
    {
     "data": {
      "image/png": "[encoded data removed]",
      "text/plain": [
       "<Figure size 1000x600 with 1 Axes>"
      ]
     },
     "metadata": {},
     "output_type": "display_data"
    }
   ],
   "source": [
    "plt.figure(figsize=(10, 6))\n",
    "sns.histplot(df[feature], kde=True, color='blue')\n",
    "plt.title(f'Distribution of {feature}')\n",
    "plt.xlabel(feature)\n",
    "plt.ylabel('Frequency')\n",
    "plt.show()"
   ]
  },
  {
   "attachments": {},
   "cell_type": "markdown",
   "metadata": {},
   "source": [
    "##### Gear box"
   ]
  },
  {
   "cell_type": "code",
   "execution_count": 40,
   "metadata": {},
   "outputs": [
    {
     "data": {
      "text/plain": [
       "Gear box type\n",
       "Automatic    10335\n",
       "Tiptronic     2462\n",
       "Manual        1435\n",
       "Variator       656\n",
       "Name: count, dtype: int64"
      ]
     },
     "execution_count": 40,
     "metadata": {},
     "output_type": "execute_result"
    }
   ],
   "source": [
    "feature = 'Gear box type'\n",
    "counts_gear = df[feature].value_counts()\n",
    "counts_gear"
   ]
  },
  {
   "attachments": {},
   "cell_type": "markdown",
   "metadata": {},
   "source": [
    "##### Drive Wheels"
   ]
  },
  {
   "cell_type": "code",
   "execution_count": 41,
   "metadata": {},
   "outputs": [
    {
     "data": {
      "text/plain": [
       "Drive wheels\n",
       "Front    10549\n",
       "4x4       2700\n",
       "Rear      1639\n",
       "Name: count, dtype: int64"
      ]
     },
     "execution_count": 41,
     "metadata": {},
     "output_type": "execute_result"
    }
   ],
   "source": [
    "feature = 'Drive wheels'\n",
    "counts_wheels = df[feature].value_counts()\n",
    "counts_wheels"
   ]
  },
  {
   "attachments": {},
   "cell_type": "markdown",
   "metadata": {},
   "source": [
    "##### Doors"
   ]
  },
  {
   "cell_type": "code",
   "execution_count": 42,
   "metadata": {},
   "outputs": [
    {
     "data": {
      "text/plain": [
       "Doors\n",
       "04-May    14258\n",
       "02-Mar      533\n",
       ">5           97\n",
       "Name: count, dtype: int64"
      ]
     },
     "execution_count": 42,
     "metadata": {},
     "output_type": "execute_result"
    }
   ],
   "source": [
    "feature = 'Doors'\n",
    "df[feature].value_counts()"
   ]
  },
  {
   "cell_type": "code",
   "execution_count": 43,
   "metadata": {},
   "outputs": [],
   "source": [
    "# Remove this feature\n",
    "df = df.drop(columns=[feature])"
   ]
  },
  {
   "cell_type": "code",
   "execution_count": 44,
   "metadata": {},
   "outputs": [
    {
     "data": {
      "text/plain": [
       "['Manufacturer',\n",
       " 'Model',\n",
       " 'Prod. year',\n",
       " 'Mileage',\n",
       " 'Category',\n",
       " 'Leather interior',\n",
       " 'Fuel type',\n",
       " 'Engine volume',\n",
       " 'Cylinders',\n",
       " 'Gear box type',\n",
       " 'Drive wheels',\n",
       " 'Wheel',\n",
       " 'Color',\n",
       " 'Airbags',\n",
       " 'Price',\n",
       " 'isTurbo']"
      ]
     },
     "execution_count": 44,
     "metadata": {},
     "output_type": "execute_result"
    }
   ],
   "source": [
    "list(df.columns)"
   ]
  },
  {
   "attachments": {},
   "cell_type": "markdown",
   "metadata": {},
   "source": [
    "##### Wheel type"
   ]
  },
  {
   "cell_type": "code",
   "execution_count": 45,
   "metadata": {},
   "outputs": [
    {
     "data": {
      "text/plain": [
       "Wheel\n",
       "Left wheel          13781\n",
       "Right-hand drive     1107\n",
       "Name: count, dtype: int64"
      ]
     },
     "execution_count": 45,
     "metadata": {},
     "output_type": "execute_result"
    }
   ],
   "source": [
    "feature = 'Wheel'\n",
    "counts_wheel_type = df[feature].value_counts()\n",
    "counts_wheel_type"
   ]
  },
  {
   "attachments": {},
   "cell_type": "markdown",
   "metadata": {},
   "source": [
    "##### Color"
   ]
  },
  {
   "cell_type": "code",
   "execution_count": 46,
   "metadata": {},
   "outputs": [
    {
     "data": {
      "text/plain": [
       "Color\n",
       "Black            3732\n",
       "White            3488\n",
       "Silver           3106\n",
       "Grey             1842\n",
       "Blue             1091\n",
       "Red               491\n",
       "Green             238\n",
       "Orange            158\n",
       "Carnelian red     144\n",
       "Brown             140\n",
       "Golden            121\n",
       "Beige              98\n",
       "Sky blue           97\n",
       "Yellow             93\n",
       "Purple             30\n",
       "Pink               19\n",
       "Name: count, dtype: int64"
      ]
     },
     "execution_count": 46,
     "metadata": {},
     "output_type": "execute_result"
    }
   ],
   "source": [
    "feature = 'Color'\n",
    "counts_wheel_type = df[feature].value_counts()\n",
    "counts_wheel_type"
   ]
  },
  {
   "attachments": {},
   "cell_type": "markdown",
   "metadata": {},
   "source": [
    "##### Airbags"
   ]
  },
  {
   "cell_type": "code",
   "execution_count": 47,
   "metadata": {},
   "outputs": [
    {
     "name": "stdout",
     "output_type": "stream",
     "text": [
      "Mean = 6.31\n",
      "Std = 4.09\n",
      "Min = 0.00\n",
      "25th = 4.00\n",
      "50th = 4.00\n",
      "75th = 12.00\n",
      "Max = 16.00\n",
      "IQR = 8.00\n"
     ]
    }
   ],
   "source": [
    "feature = 'Airbags'\n",
    "calc_stats(df, feature=feature)"
   ]
  },
  {
   "cell_type": "code",
   "execution_count": 48,
   "metadata": {},
   "outputs": [
    {
     "name": "stdout",
     "output_type": "stream",
     "text": [
      "0 < Airbags < 20\n",
      "Outlier for Airbags: 0 or 0.00%\n",
      "Before 14888, After 14888\n"
     ]
    },
    {
     "data": {
      "text/html": [
       "<div>\n",
       "<style scoped>\n",
       "    .dataframe tbody tr th:only-of-type {\n",
       "        vertical-align: middle;\n",
       "    }\n",
       "\n",
       "    .dataframe tbody tr th {\n",
       "        vertical-align: top;\n",
       "    }\n",
       "\n",
       "    .dataframe thead th {\n",
       "        text-align: right;\n",
       "    }\n",
       "</style>\n",
       "<table border=\"1\" class=\"dataframe\">\n",
       "  <thead>\n",
       "    <tr style=\"text-align: right;\">\n",
       "      <th></th>\n",
       "      <th>Manufacturer</th>\n",
       "      <th>Model</th>\n",
       "      <th>Prod. year</th>\n",
       "      <th>Mileage</th>\n",
       "      <th>Category</th>\n",
       "      <th>Leather interior</th>\n",
       "      <th>Fuel type</th>\n",
       "      <th>Engine volume</th>\n",
       "      <th>Cylinders</th>\n",
       "      <th>Gear box type</th>\n",
       "      <th>Drive wheels</th>\n",
       "      <th>Wheel</th>\n",
       "      <th>Color</th>\n",
       "      <th>Airbags</th>\n",
       "      <th>Price</th>\n",
       "      <th>isTurbo</th>\n",
       "    </tr>\n",
       "  </thead>\n",
       "  <tbody>\n",
       "  </tbody>\n",
       "</table>\n",
       "</div>"
      ],
      "text/plain": [
       "Empty DataFrame\n",
       "Columns: [Manufacturer, Model, Prod. year, Mileage, Category, Leather interior, Fuel type, Engine volume, Cylinders, Gear box type, Drive wheels, Wheel, Color, Airbags, Price, isTurbo]\n",
       "Index: []"
      ]
     },
     "execution_count": 48,
     "metadata": {},
     "output_type": "execute_result"
    }
   ],
   "source": [
    "outliers_airbags = find_outliers_numeric(df, feature=feature, iqr_threshhold=3, min_value=0, max_value=20)\n",
    "outliers_airbags"
   ]
  },
  {
   "cell_type": "code",
   "execution_count": 49,
   "metadata": {},
   "outputs": [
    {
     "data": {
      "image/png": "[encoded data removed]",
      "text/plain": [
       "<Figure size 1000x600 with 1 Axes>"
      ]
     },
     "metadata": {},
     "output_type": "display_data"
    }
   ],
   "source": [
    "plt.figure(figsize=(10, 6))\n",
    "sns.histplot(df[feature], kde=True, color='blue')\n",
    "plt.title(f'Distribution of {feature}')\n",
    "plt.xlabel(feature)\n",
    "plt.ylabel('Frequency')\n",
    "plt.show()"
   ]
  },
  {
   "attachments": {},
   "cell_type": "markdown",
   "metadata": {},
   "source": [
    "##### Leather interior"
   ]
  },
  {
   "cell_type": "code",
   "execution_count": 50,
   "metadata": {},
   "outputs": [
    {
     "data": {
      "text/plain": [
       "Leather interior\n",
       "Yes    10599\n",
       "No      4289\n",
       "Name: count, dtype: int64"
      ]
     },
     "execution_count": 50,
     "metadata": {},
     "output_type": "execute_result"
    }
   ],
   "source": [
    "feature = 'Leather interior'\n",
    "counts_interior = df[feature].value_counts()\n",
    "counts_interior"
   ]
  },
  {
   "attachments": {},
   "cell_type": "markdown",
   "metadata": {},
   "source": [
    "### Set types"
   ]
  },
  {
   "cell_type": "code",
   "execution_count": 51,
   "metadata": {},
   "outputs": [
    {
     "data": {
      "text/plain": [
       "['Manufacturer',\n",
       " 'Model',\n",
       " 'Prod. year',\n",
       " 'Mileage',\n",
       " 'Category',\n",
       " 'Leather interior',\n",
       " 'Fuel type',\n",
       " 'Engine volume',\n",
       " 'Cylinders',\n",
       " 'Gear box type',\n",
       " 'Drive wheels',\n",
       " 'Wheel',\n",
       " 'Color',\n",
       " 'Airbags',\n",
       " 'Price',\n",
       " 'isTurbo']"
      ]
     },
     "execution_count": 51,
     "metadata": {},
     "output_type": "execute_result"
    }
   ],
   "source": [
    "list(df.columns)"
   ]
  },
  {
   "cell_type": "code",
   "execution_count": 58,
   "metadata": {},
   "outputs": [],
   "source": [
    "# Numerical\n",
    "numerical_cols = ['Prod. year', 'Mileage', 'Engine volume', 'Cylinders', 'Airbags', 'Price']\n",
    "df[numerical_cols] = df[numerical_cols].astype(float)"
   ]
  },
  {
   "cell_type": "code",
   "execution_count": 59,
   "metadata": {},
   "outputs": [],
   "source": [
    "# Categorical\n",
    "categorical_cols = ['Manufacturer', 'Model', 'Category', 'Fuel type', 'Gear box type', 'Drive wheels', 'isTrubo', 'Wheel', 'Color', 'Leather interior']\n",
    "df[numerical_cols] = df[numerical_cols].astype(str)"
   ]
  },
  {
   "cell_type": "code",
   "execution_count": 60,
   "metadata": {},
   "outputs": [
    {
     "data": {
      "text/plain": [
       "True"
      ]
     },
     "execution_count": 60,
     "metadata": {},
     "output_type": "execute_result"
    }
   ],
   "source": [
    "len(df.columns) == (len(numerical_cols) + len(categorical_cols))"
   ]
  },
  {
   "attachments": {},
   "cell_type": "markdown",
   "metadata": {},
   "source": [
    "### Save processed dataset"
   ]
  },
  {
   "cell_type": "code",
   "execution_count": 61,
   "metadata": {},
   "outputs": [],
   "source": [
    "processed_data_path = '../data/processed/car-data-processed.csv'\n",
    "df.to_csv(processed_data_path, index=False)"
   ]
  },
  {
   "cell_type": "code",
   "execution_count": null,
   "metadata": {},
   "outputs": [],
   "source": []
  }
 ],
 "metadata": {
  "kernelspec": {
   "display_name": "ml-component-aRQXGD8m-py3.9",
   "language": "python",
   "name": "python3"
  },
  "language_info": {
   "codemirror_mode": {
    "name": "ipython",
    "version": 3
   },
   "file_extension": ".py",
   "mimetype": "text/x-python",
   "name": "python",
   "nbconvert_exporter": "python",
   "pygments_lexer": "ipython3",
   "version": "3.9.10"
  },
  "orig_nbformat": 4
 },
 "nbformat": 4,
 "nbformat_minor": 2
}
